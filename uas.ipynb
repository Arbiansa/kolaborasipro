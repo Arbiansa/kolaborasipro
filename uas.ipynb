{
  "cells": [
    {
      "cell_type": "markdown",
      "metadata": {
        "id": "iiOnzvkCdRYz"
      },
      "source": [
        "# **UAS PSD**\n",
        "\n",
        "NPM     : 200411100195\n",
        "\n",
        "Nama    : Muhammad Arbiansyafa Siswanto (Ketua)\n",
        "\n",
        "NPM     : 200411100118\n",
        "\n",
        "Nama    : Bachtiar Dwi Yusril R. (Anggota)\n",
        "\n",
        "GitHub  : https://github.com/Arbiansa/kolaborasipro"
      ]
    },
    {
      "cell_type": "markdown",
      "metadata": {
        "id": "UIoI0A_fdRY2"
      },
      "source": [
        "# Get and prepare Data"
      ]
    },
    {
      "cell_type": "code",
      "execution_count": 1,
      "metadata": {
        "id": "fkeLTUvFdRY2"
      },
      "outputs": [],
      "source": [
        "import numpy as np\n",
        "import pandas as pd"
      ]
    },
    {
      "cell_type": "code",
      "execution_count": 2,
      "metadata": {
        "id": "YvQT76npdRY3",
        "outputId": "bce78e9b-8781-487a-d0ba-29d2267c6758",
        "colab": {
          "base_uri": "https://localhost:8080/",
          "height": 269
        }
      },
      "outputs": [
        {
          "output_type": "execute_result",
          "data": {
            "text/plain": [
              "         Date     Open     High      Low    Close  Adj Close  Volume\n",
              "0  2022-06-14  4.46600  4.47688  4.42988  4.46600    4.46600       0\n",
              "1  2022-06-15  4.46002  4.50125  4.44080  4.46002    4.46002       0\n",
              "2  2022-06-16  4.45990  4.54237  4.45280  4.45990    4.45990       0\n",
              "3  2022-06-17  4.47920  4.49009  4.45391  4.47920    4.47920       0\n",
              "4  2022-06-20  4.45950  4.46150  4.40960  4.45950    4.45950       0\n",
              "5  2022-06-21  4.41570  4.41745  4.38500  4.41570    4.41570       0\n",
              "6  2022-06-22  4.40151  4.46615  4.40040  4.40151    4.40151       0"
            ],
            "text/html": [
              "\n",
              "  <div id=\"df-fa3e7ca0-4eea-4cc1-9239-7f6e99ef4553\">\n",
              "    <div class=\"colab-df-container\">\n",
              "      <div>\n",
              "<style scoped>\n",
              "    .dataframe tbody tr th:only-of-type {\n",
              "        vertical-align: middle;\n",
              "    }\n",
              "\n",
              "    .dataframe tbody tr th {\n",
              "        vertical-align: top;\n",
              "    }\n",
              "\n",
              "    .dataframe thead th {\n",
              "        text-align: right;\n",
              "    }\n",
              "</style>\n",
              "<table border=\"1\" class=\"dataframe\">\n",
              "  <thead>\n",
              "    <tr style=\"text-align: right;\">\n",
              "      <th></th>\n",
              "      <th>Date</th>\n",
              "      <th>Open</th>\n",
              "      <th>High</th>\n",
              "      <th>Low</th>\n",
              "      <th>Close</th>\n",
              "      <th>Adj Close</th>\n",
              "      <th>Volume</th>\n",
              "    </tr>\n",
              "  </thead>\n",
              "  <tbody>\n",
              "    <tr>\n",
              "      <th>0</th>\n",
              "      <td>2022-06-14</td>\n",
              "      <td>4.46600</td>\n",
              "      <td>4.47688</td>\n",
              "      <td>4.42988</td>\n",
              "      <td>4.46600</td>\n",
              "      <td>4.46600</td>\n",
              "      <td>0</td>\n",
              "    </tr>\n",
              "    <tr>\n",
              "      <th>1</th>\n",
              "      <td>2022-06-15</td>\n",
              "      <td>4.46002</td>\n",
              "      <td>4.50125</td>\n",
              "      <td>4.44080</td>\n",
              "      <td>4.46002</td>\n",
              "      <td>4.46002</td>\n",
              "      <td>0</td>\n",
              "    </tr>\n",
              "    <tr>\n",
              "      <th>2</th>\n",
              "      <td>2022-06-16</td>\n",
              "      <td>4.45990</td>\n",
              "      <td>4.54237</td>\n",
              "      <td>4.45280</td>\n",
              "      <td>4.45990</td>\n",
              "      <td>4.45990</td>\n",
              "      <td>0</td>\n",
              "    </tr>\n",
              "    <tr>\n",
              "      <th>3</th>\n",
              "      <td>2022-06-17</td>\n",
              "      <td>4.47920</td>\n",
              "      <td>4.49009</td>\n",
              "      <td>4.45391</td>\n",
              "      <td>4.47920</td>\n",
              "      <td>4.47920</td>\n",
              "      <td>0</td>\n",
              "    </tr>\n",
              "    <tr>\n",
              "      <th>4</th>\n",
              "      <td>2022-06-20</td>\n",
              "      <td>4.45950</td>\n",
              "      <td>4.46150</td>\n",
              "      <td>4.40960</td>\n",
              "      <td>4.45950</td>\n",
              "      <td>4.45950</td>\n",
              "      <td>0</td>\n",
              "    </tr>\n",
              "    <tr>\n",
              "      <th>5</th>\n",
              "      <td>2022-06-21</td>\n",
              "      <td>4.41570</td>\n",
              "      <td>4.41745</td>\n",
              "      <td>4.38500</td>\n",
              "      <td>4.41570</td>\n",
              "      <td>4.41570</td>\n",
              "      <td>0</td>\n",
              "    </tr>\n",
              "    <tr>\n",
              "      <th>6</th>\n",
              "      <td>2022-06-22</td>\n",
              "      <td>4.40151</td>\n",
              "      <td>4.46615</td>\n",
              "      <td>4.40040</td>\n",
              "      <td>4.40151</td>\n",
              "      <td>4.40151</td>\n",
              "      <td>0</td>\n",
              "    </tr>\n",
              "  </tbody>\n",
              "</table>\n",
              "</div>\n",
              "      <button class=\"colab-df-convert\" onclick=\"convertToInteractive('df-fa3e7ca0-4eea-4cc1-9239-7f6e99ef4553')\"\n",
              "              title=\"Convert this dataframe to an interactive table.\"\n",
              "              style=\"display:none;\">\n",
              "        \n",
              "  <svg xmlns=\"http://www.w3.org/2000/svg\" height=\"24px\"viewBox=\"0 0 24 24\"\n",
              "       width=\"24px\">\n",
              "    <path d=\"M0 0h24v24H0V0z\" fill=\"none\"/>\n",
              "    <path d=\"M18.56 5.44l.94 2.06.94-2.06 2.06-.94-2.06-.94-.94-2.06-.94 2.06-2.06.94zm-11 1L8.5 8.5l.94-2.06 2.06-.94-2.06-.94L8.5 2.5l-.94 2.06-2.06.94zm10 10l.94 2.06.94-2.06 2.06-.94-2.06-.94-.94-2.06-.94 2.06-2.06.94z\"/><path d=\"M17.41 7.96l-1.37-1.37c-.4-.4-.92-.59-1.43-.59-.52 0-1.04.2-1.43.59L10.3 9.45l-7.72 7.72c-.78.78-.78 2.05 0 2.83L4 21.41c.39.39.9.59 1.41.59.51 0 1.02-.2 1.41-.59l7.78-7.78 2.81-2.81c.8-.78.8-2.07 0-2.86zM5.41 20L4 18.59l7.72-7.72 1.47 1.35L5.41 20z\"/>\n",
              "  </svg>\n",
              "      </button>\n",
              "      \n",
              "  <style>\n",
              "    .colab-df-container {\n",
              "      display:flex;\n",
              "      flex-wrap:wrap;\n",
              "      gap: 12px;\n",
              "    }\n",
              "\n",
              "    .colab-df-convert {\n",
              "      background-color: #E8F0FE;\n",
              "      border: none;\n",
              "      border-radius: 50%;\n",
              "      cursor: pointer;\n",
              "      display: none;\n",
              "      fill: #1967D2;\n",
              "      height: 32px;\n",
              "      padding: 0 0 0 0;\n",
              "      width: 32px;\n",
              "    }\n",
              "\n",
              "    .colab-df-convert:hover {\n",
              "      background-color: #E2EBFA;\n",
              "      box-shadow: 0px 1px 2px rgba(60, 64, 67, 0.3), 0px 1px 3px 1px rgba(60, 64, 67, 0.15);\n",
              "      fill: #174EA6;\n",
              "    }\n",
              "\n",
              "    [theme=dark] .colab-df-convert {\n",
              "      background-color: #3B4455;\n",
              "      fill: #D2E3FC;\n",
              "    }\n",
              "\n",
              "    [theme=dark] .colab-df-convert:hover {\n",
              "      background-color: #434B5C;\n",
              "      box-shadow: 0px 1px 3px 1px rgba(0, 0, 0, 0.15);\n",
              "      filter: drop-shadow(0px 1px 2px rgba(0, 0, 0, 0.3));\n",
              "      fill: #FFFFFF;\n",
              "    }\n",
              "  </style>\n",
              "\n",
              "      <script>\n",
              "        const buttonEl =\n",
              "          document.querySelector('#df-fa3e7ca0-4eea-4cc1-9239-7f6e99ef4553 button.colab-df-convert');\n",
              "        buttonEl.style.display =\n",
              "          google.colab.kernel.accessAllowed ? 'block' : 'none';\n",
              "\n",
              "        async function convertToInteractive(key) {\n",
              "          const element = document.querySelector('#df-fa3e7ca0-4eea-4cc1-9239-7f6e99ef4553');\n",
              "          const dataTable =\n",
              "            await google.colab.kernel.invokeFunction('convertToInteractive',\n",
              "                                                     [key], {});\n",
              "          if (!dataTable) return;\n",
              "\n",
              "          const docLinkHtml = 'Like what you see? Visit the ' +\n",
              "            '<a target=\"_blank\" href=https://colab.research.google.com/notebooks/data_table.ipynb>data table notebook</a>'\n",
              "            + ' to learn more about interactive tables.';\n",
              "          element.innerHTML = '';\n",
              "          dataTable['output_type'] = 'display_data';\n",
              "          await google.colab.output.renderOutput(dataTable, element);\n",
              "          const docLink = document.createElement('div');\n",
              "          docLink.innerHTML = docLinkHtml;\n",
              "          element.appendChild(docLink);\n",
              "        }\n",
              "      </script>\n",
              "    </div>\n",
              "  </div>\n",
              "  "
            ]
          },
          "metadata": {},
          "execution_count": 2
        }
      ],
      "source": [
        "import pandas as pd\n",
        "\n",
        "# URL file CSV di repositori GitHub\n",
        "csv_url = 'https://raw.githubusercontent.com/Arbiansa/kolaborasipro/main/PLN%3DX.csv'\n",
        "\n",
        "# Membaca file CSV dari URL menggunakan pandas\n",
        "df_data = pd.read_csv(csv_url)\n",
        "\n",
        "# Menampilkan data dari file CSV\n",
        "df_data.head(7)"
      ]
    },
    {
      "cell_type": "code",
      "execution_count": 3,
      "metadata": {
        "id": "T4STj_TPdRY4",
        "outputId": "fe00bf2a-3387-4daf-d564-39feeeb74051",
        "colab": {
          "base_uri": "https://localhost:8080/"
        }
      },
      "outputs": [
        {
          "output_type": "execute_result",
          "data": {
            "text/plain": [
              "(262, 7)"
            ]
          },
          "metadata": {},
          "execution_count": 3
        }
      ],
      "source": [
        "df_data.shape"
      ]
    },
    {
      "cell_type": "code",
      "execution_count": 4,
      "metadata": {
        "id": "JArjstlzdRY4"
      },
      "outputs": [],
      "source": [
        "df_close= df_data['Close']"
      ]
    },
    {
      "cell_type": "code",
      "execution_count": 5,
      "metadata": {
        "id": "n8FWhZnHdRY4"
      },
      "outputs": [],
      "source": [
        "# transform univariate time series to supervised learning problem\n",
        "from numpy import array\n",
        "# split a univariate sequence into samples\n",
        "def split_sequence(sequence, n_steps):\n",
        "    X, y = list(), list()\n",
        "    for i in range(len(sequence)):\n",
        "    # find the end of this pattern\n",
        "        end_ix = i + n_steps\n",
        "    # check if we are beyond the sequence\n",
        "        if end_ix > len(sequence)-1:\n",
        "            break\n",
        "    # gather input and output parts of the pattern\n",
        "        # print(i, end_ix)\n",
        "        seq_x, seq_y = sequence[i:end_ix], sequence[end_ix]\n",
        "        X.append(seq_x)\n",
        "        y.append(seq_y)\n",
        "    return array(X), array(y)"
      ]
    },
    {
      "cell_type": "markdown",
      "metadata": {
        "id": "jJ2DrK4kdRY4"
      },
      "source": [
        "# Tuning data"
      ]
    },
    {
      "cell_type": "code",
      "execution_count": 6,
      "metadata": {
        "id": "zjOHqoe_dRY5"
      },
      "outputs": [],
      "source": [
        "n_steps = 5\n",
        "X, y = split_sequence(df_close, n_steps)"
      ]
    },
    {
      "cell_type": "code",
      "execution_count": 7,
      "metadata": {
        "id": "tckX6d5IdRY5",
        "outputId": "6b684d64-82bc-4868-d794-9bf8cfc76e43",
        "colab": {
          "base_uri": "https://localhost:8080/"
        }
      },
      "outputs": [
        {
          "output_type": "stream",
          "name": "stdout",
          "text": [
            "(257, 5) (257,)\n"
          ]
        }
      ],
      "source": [
        "print(X.shape, y.shape)"
      ]
    },
    {
      "cell_type": "code",
      "execution_count": 8,
      "metadata": {
        "id": "IJSFfsINdRY5"
      },
      "outputs": [],
      "source": [
        "n_steps = 5\n",
        "X, y = split_sequence(df_close, n_steps)  # column names to X and y data frames\n",
        "df_X = pd.DataFrame(X, columns=['t-' + str(i) for i in range(n_steps-1, -1, -1)])\n",
        "df_y = pd.DataFrame(y, columns=['t+1 (prediction)'])\n",
        "\n",
        "# concat df_X and df_y\n",
        "df = pd.concat([df_X, df_y], axis=1)"
      ]
    },
    {
      "cell_type": "code",
      "execution_count": 9,
      "metadata": {
        "id": "YBWnccjRdRY5",
        "outputId": "f119181c-e7d6-4f4e-be68-968c0e14629d",
        "colab": {
          "base_uri": "https://localhost:8080/"
        }
      },
      "outputs": [
        {
          "output_type": "stream",
          "name": "stdout",
          "text": [
            "(257, 5) (257,)\n"
          ]
        }
      ],
      "source": [
        "print(X.shape, y.shape)"
      ]
    },
    {
      "cell_type": "code",
      "source": [
        "df.head(5)"
      ],
      "metadata": {
        "colab": {
          "base_uri": "https://localhost:8080/",
          "height": 206
        },
        "id": "gDsOks0jxGC6",
        "outputId": "684e6fc3-2425-4857-dfdb-8d4cd50e29ad"
      },
      "execution_count": 10,
      "outputs": [
        {
          "output_type": "execute_result",
          "data": {
            "text/plain": [
              "       t-4      t-3      t-2      t-1      t-0  t+1 (prediction)\n",
              "0  4.46600  4.46002  4.45990  4.47920  4.45950           4.41570\n",
              "1  4.46002  4.45990  4.47920  4.45950  4.41570           4.40151\n",
              "2  4.45990  4.47920  4.45950  4.41570  4.40151           4.44450\n",
              "3  4.47920  4.45950  4.41570  4.40151  4.44450           4.46630\n",
              "4  4.45950  4.41570  4.40151  4.44450  4.46630           4.43310"
            ],
            "text/html": [
              "\n",
              "  <div id=\"df-ca4792f2-3e74-4fe7-9695-ffe8d6485c30\">\n",
              "    <div class=\"colab-df-container\">\n",
              "      <div>\n",
              "<style scoped>\n",
              "    .dataframe tbody tr th:only-of-type {\n",
              "        vertical-align: middle;\n",
              "    }\n",
              "\n",
              "    .dataframe tbody tr th {\n",
              "        vertical-align: top;\n",
              "    }\n",
              "\n",
              "    .dataframe thead th {\n",
              "        text-align: right;\n",
              "    }\n",
              "</style>\n",
              "<table border=\"1\" class=\"dataframe\">\n",
              "  <thead>\n",
              "    <tr style=\"text-align: right;\">\n",
              "      <th></th>\n",
              "      <th>t-4</th>\n",
              "      <th>t-3</th>\n",
              "      <th>t-2</th>\n",
              "      <th>t-1</th>\n",
              "      <th>t-0</th>\n",
              "      <th>t+1 (prediction)</th>\n",
              "    </tr>\n",
              "  </thead>\n",
              "  <tbody>\n",
              "    <tr>\n",
              "      <th>0</th>\n",
              "      <td>4.46600</td>\n",
              "      <td>4.46002</td>\n",
              "      <td>4.45990</td>\n",
              "      <td>4.47920</td>\n",
              "      <td>4.45950</td>\n",
              "      <td>4.41570</td>\n",
              "    </tr>\n",
              "    <tr>\n",
              "      <th>1</th>\n",
              "      <td>4.46002</td>\n",
              "      <td>4.45990</td>\n",
              "      <td>4.47920</td>\n",
              "      <td>4.45950</td>\n",
              "      <td>4.41570</td>\n",
              "      <td>4.40151</td>\n",
              "    </tr>\n",
              "    <tr>\n",
              "      <th>2</th>\n",
              "      <td>4.45990</td>\n",
              "      <td>4.47920</td>\n",
              "      <td>4.45950</td>\n",
              "      <td>4.41570</td>\n",
              "      <td>4.40151</td>\n",
              "      <td>4.44450</td>\n",
              "    </tr>\n",
              "    <tr>\n",
              "      <th>3</th>\n",
              "      <td>4.47920</td>\n",
              "      <td>4.45950</td>\n",
              "      <td>4.41570</td>\n",
              "      <td>4.40151</td>\n",
              "      <td>4.44450</td>\n",
              "      <td>4.46630</td>\n",
              "    </tr>\n",
              "    <tr>\n",
              "      <th>4</th>\n",
              "      <td>4.45950</td>\n",
              "      <td>4.41570</td>\n",
              "      <td>4.40151</td>\n",
              "      <td>4.44450</td>\n",
              "      <td>4.46630</td>\n",
              "      <td>4.43310</td>\n",
              "    </tr>\n",
              "  </tbody>\n",
              "</table>\n",
              "</div>\n",
              "      <button class=\"colab-df-convert\" onclick=\"convertToInteractive('df-ca4792f2-3e74-4fe7-9695-ffe8d6485c30')\"\n",
              "              title=\"Convert this dataframe to an interactive table.\"\n",
              "              style=\"display:none;\">\n",
              "        \n",
              "  <svg xmlns=\"http://www.w3.org/2000/svg\" height=\"24px\"viewBox=\"0 0 24 24\"\n",
              "       width=\"24px\">\n",
              "    <path d=\"M0 0h24v24H0V0z\" fill=\"none\"/>\n",
              "    <path d=\"M18.56 5.44l.94 2.06.94-2.06 2.06-.94-2.06-.94-.94-2.06-.94 2.06-2.06.94zm-11 1L8.5 8.5l.94-2.06 2.06-.94-2.06-.94L8.5 2.5l-.94 2.06-2.06.94zm10 10l.94 2.06.94-2.06 2.06-.94-2.06-.94-.94-2.06-.94 2.06-2.06.94z\"/><path d=\"M17.41 7.96l-1.37-1.37c-.4-.4-.92-.59-1.43-.59-.52 0-1.04.2-1.43.59L10.3 9.45l-7.72 7.72c-.78.78-.78 2.05 0 2.83L4 21.41c.39.39.9.59 1.41.59.51 0 1.02-.2 1.41-.59l7.78-7.78 2.81-2.81c.8-.78.8-2.07 0-2.86zM5.41 20L4 18.59l7.72-7.72 1.47 1.35L5.41 20z\"/>\n",
              "  </svg>\n",
              "      </button>\n",
              "      \n",
              "  <style>\n",
              "    .colab-df-container {\n",
              "      display:flex;\n",
              "      flex-wrap:wrap;\n",
              "      gap: 12px;\n",
              "    }\n",
              "\n",
              "    .colab-df-convert {\n",
              "      background-color: #E8F0FE;\n",
              "      border: none;\n",
              "      border-radius: 50%;\n",
              "      cursor: pointer;\n",
              "      display: none;\n",
              "      fill: #1967D2;\n",
              "      height: 32px;\n",
              "      padding: 0 0 0 0;\n",
              "      width: 32px;\n",
              "    }\n",
              "\n",
              "    .colab-df-convert:hover {\n",
              "      background-color: #E2EBFA;\n",
              "      box-shadow: 0px 1px 2px rgba(60, 64, 67, 0.3), 0px 1px 3px 1px rgba(60, 64, 67, 0.15);\n",
              "      fill: #174EA6;\n",
              "    }\n",
              "\n",
              "    [theme=dark] .colab-df-convert {\n",
              "      background-color: #3B4455;\n",
              "      fill: #D2E3FC;\n",
              "    }\n",
              "\n",
              "    [theme=dark] .colab-df-convert:hover {\n",
              "      background-color: #434B5C;\n",
              "      box-shadow: 0px 1px 3px 1px rgba(0, 0, 0, 0.15);\n",
              "      filter: drop-shadow(0px 1px 2px rgba(0, 0, 0, 0.3));\n",
              "      fill: #FFFFFF;\n",
              "    }\n",
              "  </style>\n",
              "\n",
              "      <script>\n",
              "        const buttonEl =\n",
              "          document.querySelector('#df-ca4792f2-3e74-4fe7-9695-ffe8d6485c30 button.colab-df-convert');\n",
              "        buttonEl.style.display =\n",
              "          google.colab.kernel.accessAllowed ? 'block' : 'none';\n",
              "\n",
              "        async function convertToInteractive(key) {\n",
              "          const element = document.querySelector('#df-ca4792f2-3e74-4fe7-9695-ffe8d6485c30');\n",
              "          const dataTable =\n",
              "            await google.colab.kernel.invokeFunction('convertToInteractive',\n",
              "                                                     [key], {});\n",
              "          if (!dataTable) return;\n",
              "\n",
              "          const docLinkHtml = 'Like what you see? Visit the ' +\n",
              "            '<a target=\"_blank\" href=https://colab.research.google.com/notebooks/data_table.ipynb>data table notebook</a>'\n",
              "            + ' to learn more about interactive tables.';\n",
              "          element.innerHTML = '';\n",
              "          dataTable['output_type'] = 'display_data';\n",
              "          await google.colab.output.renderOutput(dataTable, element);\n",
              "          const docLink = document.createElement('div');\n",
              "          docLink.innerHTML = docLinkHtml;\n",
              "          element.appendChild(docLink);\n",
              "        }\n",
              "      </script>\n",
              "    </div>\n",
              "  </div>\n",
              "  "
            ]
          },
          "metadata": {},
          "execution_count": 10
        }
      ]
    },
    {
      "cell_type": "markdown",
      "metadata": {
        "id": "QcVs5KP_dRY6"
      },
      "source": [
        "# Plotting"
      ]
    },
    {
      "cell_type": "code",
      "source": [
        "import matplotlib.pyplot as plt\n",
        "\n",
        "# Membuat subplot dengan lebar sumbu x yang lebih besar\n",
        "fig, ax = plt.subplots(figsize=(12, 6))\n",
        "\n",
        "# Plotting\n",
        "ax.plot(df.index, df['t+1 (prediction)'], label='t+1 (prediction)', linestyle='-', color='blue')\n",
        "for i in range(n_steps):\n",
        "    ax.plot(df.index, df['t-' + str(i)], label='t-' + str(i), linestyle='--', marker='o')\n",
        "\n",
        "ax.set_xlabel('Index')\n",
        "ax.set_ylabel('Value')\n",
        "ax.legend()\n",
        "plt.show()"
      ],
      "metadata": {
        "colab": {
          "base_uri": "https://localhost:8080/",
          "height": 400
        },
        "id": "Cf_uBmVpxMrg",
        "outputId": "9f99c6e0-feba-4014-df34-9d4a5bf09af9"
      },
      "execution_count": 11,
      "outputs": [
        {
          "output_type": "display_data",
          "data": {
            "text/plain": [
              "<Figure size 1200x600 with 1 Axes>"
            ],
            "image/png": "[encoded data removed]"
          },
          "metadata": {}
        }
      ]
    },
    {
      "cell_type": "markdown",
      "source": [
        "# Preprocessing"
      ],
      "metadata": {
        "id": "mQhipqXDxRU2"
      }
    },
    {
      "cell_type": "code",
      "execution_count": 12,
      "metadata": {
        "id": "v0vluGu1dRY6"
      },
      "outputs": [],
      "source": [
        "from sklearn.preprocessing import MinMaxScaler\n",
        "scaler= MinMaxScaler()\n",
        "X_norm= scaler.fit_transform(df_X)\n",
        "# y_norm= scaler.fit_transform(df_y)"
      ]
    },
    {
      "cell_type": "code",
      "execution_count": 13,
      "metadata": {
        "id": "EEq8K8zSdRY6",
        "outputId": "f01cd490-f417-429a-90a2-cada19bf679a",
        "colab": {
          "base_uri": "https://localhost:8080/"
        }
      },
      "outputs": [
        {
          "output_type": "execute_result",
          "data": {
            "text/plain": [
              "array([[0.39787017, 0.39114485, 0.39100989, 0.41271535, 0.39056003],\n",
              "       [0.39114485, 0.39100989, 0.41271535, 0.39056003, 0.341301  ],\n",
              "       [0.39100989, 0.41271535, 0.39056003, 0.341301  , 0.32534242],\n",
              "       ...,\n",
              "       [0.09754301, 0.07127602, 0.07588703, 0.08781941, 0.03593998],\n",
              "       [0.07127602, 0.07588703, 0.08781941, 0.03593998, 0.02194951],\n",
              "       [0.07588703, 0.08781941, 0.03593998, 0.02194951, 0.02173358]])"
            ]
          },
          "metadata": {},
          "execution_count": 13
        }
      ],
      "source": [
        "X_norm"
      ]
    },
    {
      "cell_type": "markdown",
      "metadata": {
        "id": "YXANT89cdRY6"
      },
      "source": [
        "## Split data"
      ]
    },
    {
      "cell_type": "code",
      "execution_count": 14,
      "metadata": {
        "id": "ctbgxccidRY6"
      },
      "outputs": [],
      "source": [
        "from sklearn.model_selection import train_test_split\n",
        "X_train, X_test, y_train, y_test = train_test_split(X_norm, y, test_size=0.2, random_state=0)"
      ]
    },
    {
      "cell_type": "markdown",
      "metadata": {
        "id": "T0KXPWPhdRY6"
      },
      "source": [
        "## Model KNN"
      ]
    },
    {
      "cell_type": "code",
      "execution_count": 15,
      "metadata": {
        "id": "BM3xlRCIdRY6"
      },
      "outputs": [],
      "source": [
        "# import knn\n",
        "from sklearn.neighbors import KNeighborsRegressor\n",
        "model_knn = KNeighborsRegressor(n_neighbors=7)"
      ]
    },
    {
      "cell_type": "markdown",
      "metadata": {
        "id": "T13whDYxdRY7"
      },
      "source": [
        "## Fit dan Prediksi KNN"
      ]
    },
    {
      "cell_type": "code",
      "execution_count": 16,
      "metadata": {
        "id": "o_KtOci4dRY7"
      },
      "outputs": [],
      "source": [
        "model_knn.fit(X_train, y_train)\n",
        "y_pred=model_knn.predict(X_test)"
      ]
    },
    {
      "cell_type": "markdown",
      "metadata": {
        "id": "R2EST1KqdRY7"
      },
      "source": [
        "## MSE"
      ]
    },
    {
      "cell_type": "markdown",
      "metadata": {
        "id": "OMv25FlPdRY7"
      },
      "source": [
        "$$ \\text{MSE} = \\frac{1}{n} \\sum_{i=0}^n (y_i - \\hat{y}_i)^2$$"
      ]
    },
    {
      "cell_type": "code",
      "execution_count": 17,
      "metadata": {
        "id": "arRUFRo0dRY7",
        "outputId": "da57fba4-9b43-4d71-9aeb-3ca1d113db7c",
        "colab": {
          "base_uri": "https://localhost:8080/"
        }
      },
      "outputs": [
        {
          "output_type": "execute_result",
          "data": {
            "text/plain": [
              "0.001642977628699374"
            ]
          },
          "metadata": {},
          "execution_count": 17
        }
      ],
      "source": [
        "from sklearn.metrics import mean_squared_error\n",
        "mean_squared_error(y_test, y_pred)"
      ]
    },
    {
      "cell_type": "markdown",
      "metadata": {
        "id": "W3Q4AV1LdRY7"
      },
      "source": [
        "## Hasil Mape"
      ]
    },
    {
      "cell_type": "code",
      "execution_count": 18,
      "metadata": {
        "id": "FrQlrrm1dRY7",
        "outputId": "f6443915-27bb-45fe-c266-549be181fcdc",
        "colab": {
          "base_uri": "https://localhost:8080/"
        }
      },
      "outputs": [
        {
          "output_type": "stream",
          "name": "stdout",
          "text": [
            "Mean Absolute Percentage Error: 0.006805572880244369\n"
          ]
        }
      ],
      "source": [
        "from sklearn.metrics import mean_absolute_percentage_error\n",
        "\n",
        "# Assuming you have the true target values (y_test) and the predicted values (y_pred)\n",
        "mape = mean_absolute_percentage_error(y_test, y_pred)\n",
        "print(\"Mean Absolute Percentage Error:\", mape)"
      ]
    },
    {
      "cell_type": "markdown",
      "metadata": {
        "id": "HBADHCTWdRY7"
      },
      "source": [
        "## Result"
      ]
    },
    {
      "cell_type": "code",
      "execution_count": 19,
      "metadata": {
        "id": "p_sQvxeBdRY7",
        "outputId": "80bfb5dd-0e87-43c3-b6c4-96859ba76557",
        "colab": {
          "base_uri": "https://localhost:8080/"
        }
      },
      "outputs": [
        {
          "output_type": "execute_result",
          "data": {
            "text/plain": [
              "(52,)"
            ]
          },
          "metadata": {},
          "execution_count": 19
        }
      ],
      "source": [
        "y_test.shape"
      ]
    },
    {
      "cell_type": "code",
      "execution_count": 20,
      "metadata": {
        "id": "7r7-uSSidRY8",
        "outputId": "8e358a01-4172-44a7-9e22-5552583a7c21",
        "colab": {
          "base_uri": "https://localhost:8080/"
        }
      },
      "outputs": [
        {
          "output_type": "execute_result",
          "data": {
            "text/plain": [
              "(52,)"
            ]
          },
          "metadata": {},
          "execution_count": 20
        }
      ],
      "source": [
        "y_pred.shape"
      ]
    },
    {
      "cell_type": "code",
      "execution_count": 21,
      "metadata": {
        "id": "a0megkI-dRY8"
      },
      "outputs": [],
      "source": [
        "df_y_test = pd.DataFrame(y_test,columns=['y_test'])\n",
        "df_y_pred = pd.DataFrame(y_pred,columns=['y_pred'])\n",
        "\n",
        "df_hasil = pd.concat([df_y_test, df_y_pred], axis=1)"
      ]
    },
    {
      "cell_type": "code",
      "execution_count": 22,
      "metadata": {
        "id": "RNy27CDkdRY8",
        "outputId": "335b2f2d-df77-4b79-ea21-551d609e2b61",
        "colab": {
          "base_uri": "https://localhost:8080/",
          "height": 1000
        }
      },
      "outputs": [
        {
          "output_type": "execute_result",
          "data": {
            "text/plain": [
              "      y_test    y_pred\n",
              "0   4.324700  4.331631\n",
              "1   4.914600  4.903389\n",
              "2   4.459319  4.446496\n",
              "3   4.654700  4.682416\n",
              "4   4.328101  4.335345\n",
              "5   4.336100  4.340589\n",
              "6   4.451180  4.516330\n",
              "7   4.132517  4.158918\n",
              "8   4.730777  4.717798\n",
              "9   4.361909  4.381609\n",
              "10  4.333363  4.369035\n",
              "11  4.140236  4.163043\n",
              "12  4.550300  4.525992\n",
              "13  4.379500  4.403898\n",
              "14  4.354179  4.336496\n",
              "15  4.935809  4.947311\n",
              "16  4.295148  4.276330\n",
              "17  4.446300  4.457583\n",
              "18  4.313600  4.342271\n",
              "19  4.789790  4.762781\n",
              "20  4.425200  4.417790\n",
              "21  4.786693  4.690262\n",
              "22  4.216100  4.191646\n",
              "23  4.384700  4.406119\n",
              "24  4.584424  4.554916\n",
              "25  4.156945  4.158757\n",
              "26  4.483100  4.450520\n",
              "27  4.749783  4.774259\n",
              "28  4.147700  4.175640\n",
              "29  4.537300  4.598500\n",
              "30  4.347522  4.388421\n",
              "31  4.412893  4.449118\n",
              "32  4.563431  4.568894\n",
              "33  4.320700  4.359212\n",
              "34  4.424200  4.403176\n",
              "35  4.368766  4.395702\n",
              "36  4.434400  4.405079\n",
              "37  4.423700  4.436743\n",
              "38  4.685000  4.674889\n",
              "39  4.385253  4.372696\n",
              "40  4.446426  4.455992\n",
              "41  4.681500  4.567028\n",
              "42  4.445240  4.382581\n",
              "43  4.470351  4.447585\n",
              "44  4.839680  4.851890\n",
              "45  4.430290  4.413923\n",
              "46  4.146545  4.163970\n",
              "47  4.729418  4.668026\n",
              "48  4.705800  4.754568\n",
              "49  4.374810  4.440484\n",
              "50  4.987046  4.859919\n",
              "51  4.266113  4.328501"
            ],
            "text/html": [
              "\n",
              "  <div id=\"df-c6258bdd-9b2c-457a-862c-fb2cde50e3df\">\n",
              "    <div class=\"colab-df-container\">\n",
              "      <div>\n",
              "<style scoped>\n",
              "    .dataframe tbody tr th:only-of-type {\n",
              "        vertical-align: middle;\n",
              "    }\n",
              "\n",
              "    .dataframe tbody tr th {\n",
              "        vertical-align: top;\n",
              "    }\n",
              "\n",
              "    .dataframe thead th {\n",
              "        text-align: right;\n",
              "    }\n",
              "</style>\n",
              "<table border=\"1\" class=\"dataframe\">\n",
              "  <thead>\n",
              "    <tr style=\"text-align: right;\">\n",
              "      <th></th>\n",
              "      <th>y_test</th>\n",
              "      <th>y_pred</th>\n",
              "    </tr>\n",
              "  </thead>\n",
              "  <tbody>\n",
              "    <tr>\n",
              "      <th>0</th>\n",
              "      <td>4.324700</td>\n",
              "      <td>4.331631</td>\n",
              "    </tr>\n",
              "    <tr>\n",
              "      <th>1</th>\n",
              "      <td>4.914600</td>\n",
              "      <td>4.903389</td>\n",
              "    </tr>\n",
              "    <tr>\n",
              "      <th>2</th>\n",
              "      <td>4.459319</td>\n",
              "      <td>4.446496</td>\n",
              "    </tr>\n",
              "    <tr>\n",
              "      <th>3</th>\n",
              "      <td>4.654700</td>\n",
              "      <td>4.682416</td>\n",
              "    </tr>\n",
              "    <tr>\n",
              "      <th>4</th>\n",
              "      <td>4.328101</td>\n",
              "      <td>4.335345</td>\n",
              "    </tr>\n",
              "    <tr>\n",
              "      <th>5</th>\n",
              "      <td>4.336100</td>\n",
              "      <td>4.340589</td>\n",
              "    </tr>\n",
              "    <tr>\n",
              "      <th>6</th>\n",
              "      <td>4.451180</td>\n",
              "      <td>4.516330</td>\n",
              "    </tr>\n",
              "    <tr>\n",
              "      <th>7</th>\n",
              "      <td>4.132517</td>\n",
              "      <td>4.158918</td>\n",
              "    </tr>\n",
              "    <tr>\n",
              "      <th>8</th>\n",
              "      <td>4.730777</td>\n",
              "      <td>4.717798</td>\n",
              "    </tr>\n",
              "    <tr>\n",
              "      <th>9</th>\n",
              "      <td>4.361909</td>\n",
              "      <td>4.381609</td>\n",
              "    </tr>\n",
              "    <tr>\n",
              "      <th>10</th>\n",
              "      <td>4.333363</td>\n",
              "      <td>4.369035</td>\n",
              "    </tr>\n",
              "    <tr>\n",
              "      <th>11</th>\n",
              "      <td>4.140236</td>\n",
              "      <td>4.163043</td>\n",
              "    </tr>\n",
              "    <tr>\n",
              "      <th>12</th>\n",
              "      <td>4.550300</td>\n",
              "      <td>4.525992</td>\n",
              "    </tr>\n",
              "    <tr>\n",
              "      <th>13</th>\n",
              "      <td>4.379500</td>\n",
              "      <td>4.403898</td>\n",
              "    </tr>\n",
              "    <tr>\n",
              "      <th>14</th>\n",
              "      <td>4.354179</td>\n",
              "      <td>4.336496</td>\n",
              "    </tr>\n",
              "    <tr>\n",
              "      <th>15</th>\n",
              "      <td>4.935809</td>\n",
              "      <td>4.947311</td>\n",
              "    </tr>\n",
              "    <tr>\n",
              "      <th>16</th>\n",
              "      <td>4.295148</td>\n",
              "      <td>4.276330</td>\n",
              "    </tr>\n",
              "    <tr>\n",
              "      <th>17</th>\n",
              "      <td>4.446300</td>\n",
              "      <td>4.457583</td>\n",
              "    </tr>\n",
              "    <tr>\n",
              "      <th>18</th>\n",
              "      <td>4.313600</td>\n",
              "      <td>4.342271</td>\n",
              "    </tr>\n",
              "    <tr>\n",
              "      <th>19</th>\n",
              "      <td>4.789790</td>\n",
              "      <td>4.762781</td>\n",
              "    </tr>\n",
              "    <tr>\n",
              "      <th>20</th>\n",
              "      <td>4.425200</td>\n",
              "      <td>4.417790</td>\n",
              "    </tr>\n",
              "    <tr>\n",
              "      <th>21</th>\n",
              "      <td>4.786693</td>\n",
              "      <td>4.690262</td>\n",
              "    </tr>\n",
              "    <tr>\n",
              "      <th>22</th>\n",
              "      <td>4.216100</td>\n",
              "      <td>4.191646</td>\n",
              "    </tr>\n",
              "    <tr>\n",
              "      <th>23</th>\n",
              "      <td>4.384700</td>\n",
              "      <td>4.406119</td>\n",
              "    </tr>\n",
              "    <tr>\n",
              "      <th>24</th>\n",
              "      <td>4.584424</td>\n",
              "      <td>4.554916</td>\n",
              "    </tr>\n",
              "    <tr>\n",
              "      <th>25</th>\n",
              "      <td>4.156945</td>\n",
              "      <td>4.158757</td>\n",
              "    </tr>\n",
              "    <tr>\n",
              "      <th>26</th>\n",
              "      <td>4.483100</td>\n",
              "      <td>4.450520</td>\n",
              "    </tr>\n",
              "    <tr>\n",
              "      <th>27</th>\n",
              "      <td>4.749783</td>\n",
              "      <td>4.774259</td>\n",
              "    </tr>\n",
              "    <tr>\n",
              "      <th>28</th>\n",
              "      <td>4.147700</td>\n",
              "      <td>4.175640</td>\n",
              "    </tr>\n",
              "    <tr>\n",
              "      <th>29</th>\n",
              "      <td>4.537300</td>\n",
              "      <td>4.598500</td>\n",
              "    </tr>\n",
              "    <tr>\n",
              "      <th>30</th>\n",
              "      <td>4.347522</td>\n",
              "      <td>4.388421</td>\n",
              "    </tr>\n",
              "    <tr>\n",
              "      <th>31</th>\n",
              "      <td>4.412893</td>\n",
              "      <td>4.449118</td>\n",
              "    </tr>\n",
              "    <tr>\n",
              "      <th>32</th>\n",
              "      <td>4.563431</td>\n",
              "      <td>4.568894</td>\n",
              "    </tr>\n",
              "    <tr>\n",
              "      <th>33</th>\n",
              "      <td>4.320700</td>\n",
              "      <td>4.359212</td>\n",
              "    </tr>\n",
              "    <tr>\n",
              "      <th>34</th>\n",
              "      <td>4.424200</td>\n",
              "      <td>4.403176</td>\n",
              "    </tr>\n",
              "    <tr>\n",
              "      <th>35</th>\n",
              "      <td>4.368766</td>\n",
              "      <td>4.395702</td>\n",
              "    </tr>\n",
              "    <tr>\n",
              "      <th>36</th>\n",
              "      <td>4.434400</td>\n",
              "      <td>4.405079</td>\n",
              "    </tr>\n",
              "    <tr>\n",
              "      <th>37</th>\n",
              "      <td>4.423700</td>\n",
              "      <td>4.436743</td>\n",
              "    </tr>\n",
              "    <tr>\n",
              "      <th>38</th>\n",
              "      <td>4.685000</td>\n",
              "      <td>4.674889</td>\n",
              "    </tr>\n",
              "    <tr>\n",
              "      <th>39</th>\n",
              "      <td>4.385253</td>\n",
              "      <td>4.372696</td>\n",
              "    </tr>\n",
              "    <tr>\n",
              "      <th>40</th>\n",
              "      <td>4.446426</td>\n",
              "      <td>4.455992</td>\n",
              "    </tr>\n",
              "    <tr>\n",
              "      <th>41</th>\n",
              "      <td>4.681500</td>\n",
              "      <td>4.567028</td>\n",
              "    </tr>\n",
              "    <tr>\n",
              "      <th>42</th>\n",
              "      <td>4.445240</td>\n",
              "      <td>4.382581</td>\n",
              "    </tr>\n",
              "    <tr>\n",
              "      <th>43</th>\n",
              "      <td>4.470351</td>\n",
              "      <td>4.447585</td>\n",
              "    </tr>\n",
              "    <tr>\n",
              "      <th>44</th>\n",
              "      <td>4.839680</td>\n",
              "      <td>4.851890</td>\n",
              "    </tr>\n",
              "    <tr>\n",
              "      <th>45</th>\n",
              "      <td>4.430290</td>\n",
              "      <td>4.413923</td>\n",
              "    </tr>\n",
              "    <tr>\n",
              "      <th>46</th>\n",
              "      <td>4.146545</td>\n",
              "      <td>4.163970</td>\n",
              "    </tr>\n",
              "    <tr>\n",
              "      <th>47</th>\n",
              "      <td>4.729418</td>\n",
              "      <td>4.668026</td>\n",
              "    </tr>\n",
              "    <tr>\n",
              "      <th>48</th>\n",
              "      <td>4.705800</td>\n",
              "      <td>4.754568</td>\n",
              "    </tr>\n",
              "    <tr>\n",
              "      <th>49</th>\n",
              "      <td>4.374810</td>\n",
              "      <td>4.440484</td>\n",
              "    </tr>\n",
              "    <tr>\n",
              "      <th>50</th>\n",
              "      <td>4.987046</td>\n",
              "      <td>4.859919</td>\n",
              "    </tr>\n",
              "    <tr>\n",
              "      <th>51</th>\n",
              "      <td>4.266113</td>\n",
              "      <td>4.328501</td>\n",
              "    </tr>\n",
              "  </tbody>\n",
              "</table>\n",
              "</div>\n",
              "      <button class=\"colab-df-convert\" onclick=\"convertToInteractive('df-c6258bdd-9b2c-457a-862c-fb2cde50e3df')\"\n",
              "              title=\"Convert this dataframe to an interactive table.\"\n",
              "              style=\"display:none;\">\n",
              "        \n",
              "  <svg xmlns=\"http://www.w3.org/2000/svg\" height=\"24px\"viewBox=\"0 0 24 24\"\n",
              "       width=\"24px\">\n",
              "    <path d=\"M0 0h24v24H0V0z\" fill=\"none\"/>\n",
              "    <path d=\"M18.56 5.44l.94 2.06.94-2.06 2.06-.94-2.06-.94-.94-2.06-.94 2.06-2.06.94zm-11 1L8.5 8.5l.94-2.06 2.06-.94-2.06-.94L8.5 2.5l-.94 2.06-2.06.94zm10 10l.94 2.06.94-2.06 2.06-.94-2.06-.94-.94-2.06-.94 2.06-2.06.94z\"/><path d=\"M17.41 7.96l-1.37-1.37c-.4-.4-.92-.59-1.43-.59-.52 0-1.04.2-1.43.59L10.3 9.45l-7.72 7.72c-.78.78-.78 2.05 0 2.83L4 21.41c.39.39.9.59 1.41.59.51 0 1.02-.2 1.41-.59l7.78-7.78 2.81-2.81c.8-.78.8-2.07 0-2.86zM5.41 20L4 18.59l7.72-7.72 1.47 1.35L5.41 20z\"/>\n",
              "  </svg>\n",
              "      </button>\n",
              "      \n",
              "  <style>\n",
              "    .colab-df-container {\n",
              "      display:flex;\n",
              "      flex-wrap:wrap;\n",
              "      gap: 12px;\n",
              "    }\n",
              "\n",
              "    .colab-df-convert {\n",
              "      background-color: #E8F0FE;\n",
              "      border: none;\n",
              "      border-radius: 50%;\n",
              "      cursor: pointer;\n",
              "      display: none;\n",
              "      fill: #1967D2;\n",
              "      height: 32px;\n",
              "      padding: 0 0 0 0;\n",
              "      width: 32px;\n",
              "    }\n",
              "\n",
              "    .colab-df-convert:hover {\n",
              "      background-color: #E2EBFA;\n",
              "      box-shadow: 0px 1px 2px rgba(60, 64, 67, 0.3), 0px 1px 3px 1px rgba(60, 64, 67, 0.15);\n",
              "      fill: #174EA6;\n",
              "    }\n",
              "\n",
              "    [theme=dark] .colab-df-convert {\n",
              "      background-color: #3B4455;\n",
              "      fill: #D2E3FC;\n",
              "    }\n",
              "\n",
              "    [theme=dark] .colab-df-convert:hover {\n",
              "      background-color: #434B5C;\n",
              "      box-shadow: 0px 1px 3px 1px rgba(0, 0, 0, 0.15);\n",
              "      filter: drop-shadow(0px 1px 2px rgba(0, 0, 0, 0.3));\n",
              "      fill: #FFFFFF;\n",
              "    }\n",
              "  </style>\n",
              "\n",
              "      <script>\n",
              "        const buttonEl =\n",
              "          document.querySelector('#df-c6258bdd-9b2c-457a-862c-fb2cde50e3df button.colab-df-convert');\n",
              "        buttonEl.style.display =\n",
              "          google.colab.kernel.accessAllowed ? 'block' : 'none';\n",
              "\n",
              "        async function convertToInteractive(key) {\n",
              "          const element = document.querySelector('#df-c6258bdd-9b2c-457a-862c-fb2cde50e3df');\n",
              "          const dataTable =\n",
              "            await google.colab.kernel.invokeFunction('convertToInteractive',\n",
              "                                                     [key], {});\n",
              "          if (!dataTable) return;\n",
              "\n",
              "          const docLinkHtml = 'Like what you see? Visit the ' +\n",
              "            '<a target=\"_blank\" href=https://colab.research.google.com/notebooks/data_table.ipynb>data table notebook</a>'\n",
              "            + ' to learn more about interactive tables.';\n",
              "          element.innerHTML = '';\n",
              "          dataTable['output_type'] = 'display_data';\n",
              "          await google.colab.output.renderOutput(dataTable, element);\n",
              "          const docLink = document.createElement('div');\n",
              "          docLink.innerHTML = docLinkHtml;\n",
              "          element.appendChild(docLink);\n",
              "        }\n",
              "      </script>\n",
              "    </div>\n",
              "  </div>\n",
              "  "
            ]
          },
          "metadata": {},
          "execution_count": 22
        }
      ],
      "source": [
        "df_hasil"
      ]
    },
    {
      "cell_type": "code",
      "execution_count": 23,
      "metadata": {
        "id": "SujzPtp5dRY8"
      },
      "outputs": [],
      "source": [
        "# df_hasil.to_excel('df_hasil n_step={}.xlsx'.format(n_steps), index=False)"
      ]
    },
    {
      "cell_type": "code",
      "execution_count": 24,
      "metadata": {
        "id": "tpTPhBZddRY8",
        "outputId": "cce9fc44-e1df-4408-f3b7-d37895ceece1",
        "colab": {
          "base_uri": "https://localhost:8080/"
        }
      },
      "outputs": [
        {
          "output_type": "execute_result",
          "data": {
            "text/plain": [
              "4.112223"
            ]
          },
          "metadata": {},
          "execution_count": 24
        }
      ],
      "source": [
        "y.min()"
      ]
    },
    {
      "cell_type": "code",
      "execution_count": 25,
      "metadata": {
        "id": "Bxxcbk60dRY8",
        "outputId": "c1bda053-13bf-45dc-803c-3acbb1d4304f",
        "colab": {
          "base_uri": "https://localhost:8080/"
        }
      },
      "outputs": [
        {
          "output_type": "execute_result",
          "data": {
            "text/plain": [
              "5.0014"
            ]
          },
          "metadata": {},
          "execution_count": 25
        }
      ],
      "source": [
        "y.max()"
      ]
    },
    {
      "cell_type": "markdown",
      "source": [
        "## Model Naive Bayes"
      ],
      "metadata": {
        "id": "gxdwLHN54-6A"
      }
    },
    {
      "cell_type": "code",
      "source": [
        "from sklearn.model_selection import train_test_split\n",
        "from sklearn.naive_bayes import GaussianNB\n",
        "from sklearn.metrics import mean_squared_error, mean_absolute_percentage_error\n",
        "\n",
        "\n",
        "# Create a Naive Bayes\n",
        "naive_bayes = GaussianNB()"
      ],
      "metadata": {
        "id": "zEi85TJi43tl"
      },
      "execution_count": 26,
      "outputs": []
    },
    {
      "cell_type": "markdown",
      "source": [
        "## Fit & Predict Naive Bayes"
      ],
      "metadata": {
        "id": "PEXCp7QS5I1w"
      }
    },
    {
      "cell_type": "code",
      "source": [
        "import numpy as np\n",
        "\n",
        "# Define the bin edges or thresholds\n",
        "bin_edges = [4.0, 4.5, 5.0]  # Adjust the values based on your requirements\n",
        "\n",
        "# Perform binning on the labels\n",
        "y_train_categorical = np.digitize(y_train, bin_edges)\n",
        "\n",
        "# Create a Naive Bayes classifier\n",
        "naive_bayes = GaussianNB()\n",
        "\n",
        "# Training the model\n",
        "naive_bayes.fit(X_train, y_train_categorical)\n",
        "\n",
        "# Making predictions on the test set\n",
        "y_pred = naive_bayes.predict(X_test)"
      ],
      "metadata": {
        "id": "-648ZT5w5SQa"
      },
      "execution_count": 27,
      "outputs": []
    },
    {
      "cell_type": "markdown",
      "source": [
        "## Plotting the predicted values and actual values"
      ],
      "metadata": {
        "id": "1Yu2vej155pm"
      }
    },
    {
      "cell_type": "code",
      "source": [
        "# Plotting the predicted values and actual values\n",
        "plt.figure(figsize=(8, 6))\n",
        "plt.plot(np.arange(len(y_test)), y_test, label='Actual')\n",
        "plt.plot(np.arange(len(y_test)), y_pred, label='Predicted')\n",
        "plt.xlabel('Index')\n",
        "plt.ylabel('Value')\n",
        "plt.title('Actual vs Predicted')\n",
        "plt.legend()\n",
        "plt.show()"
      ],
      "metadata": {
        "colab": {
          "base_uri": "https://localhost:8080/",
          "height": 564
        },
        "id": "AowRuQWi5XuL",
        "outputId": "1698b63f-0b10-41db-9217-e846cae198cb"
      },
      "execution_count": 28,
      "outputs": [
        {
          "output_type": "display_data",
          "data": {
            "text/plain": [
              "<Figure size 800x600 with 1 Axes>"
            ],
            "image/png": "[encoded data removed]"
          },
          "metadata": {}
        }
      ]
    },
    {
      "cell_type": "markdown",
      "source": [
        "## MSE"
      ],
      "metadata": {
        "id": "Uu65MszL51-9"
      }
    },
    {
      "cell_type": "code",
      "source": [
        "# Calculating MSE\n",
        "mse = mean_squared_error(y_test, y_pred)\n",
        "print(\"Mean Squared Error (MSE):\", mse)"
      ],
      "metadata": {
        "colab": {
          "base_uri": "https://localhost:8080/"
        },
        "id": "fkD8A1iK5Xpp",
        "outputId": "50318df0-ad6c-44c6-f032-aa040063292b"
      },
      "execution_count": 29,
      "outputs": [
        {
          "output_type": "stream",
          "name": "stdout",
          "text": [
            "Mean Squared Error (MSE): 9.993711507303097\n"
          ]
        }
      ]
    },
    {
      "cell_type": "markdown",
      "source": [
        "## Mape"
      ],
      "metadata": {
        "id": "KBppkdFJ5zlv"
      }
    },
    {
      "cell_type": "code",
      "source": [
        "# Calculating MAPE\n",
        "mape = mean_absolute_percentage_error(y_test, y_pred)\n",
        "print(\"Mean Absolute Percentage Error (MAPE):\", mape)"
      ],
      "metadata": {
        "colab": {
          "base_uri": "https://localhost:8080/"
        },
        "id": "qFxznc3d5gQt",
        "outputId": "10d0e4b2-4ff6-47ec-e073-ce0d871c168b"
      },
      "execution_count": 30,
      "outputs": [
        {
          "output_type": "stream",
          "name": "stdout",
          "text": [
            "Mean Absolute Percentage Error (MAPE): 0.7067874081295376\n"
          ]
        }
      ]
    },
    {
      "cell_type": "markdown",
      "source": [
        "## Model Random Forest Model"
      ],
      "metadata": {
        "id": "_dk_ekIy5vbz"
      }
    },
    {
      "cell_type": "code",
      "source": [
        "from sklearn.ensemble import RandomForestRegressor\n",
        "from sklearn.model_selection import train_test_split\n",
        "from sklearn.metrics import mean_squared_error, mean_absolute_percentage_error\n",
        "\n",
        "# Create a Random Forest Regressor\n",
        "random_forest = RandomForestRegressor()"
      ],
      "metadata": {
        "id": "FdZXcrvZ5jdY"
      },
      "execution_count": 31,
      "outputs": []
    },
    {
      "cell_type": "code",
      "source": [
        "# Train the model\n",
        "random_forest.fit(X_train, y_train)\n",
        "\n",
        "# Make predictions\n",
        "predictions = random_forest.predict(X_test)"
      ],
      "metadata": {
        "id": "ZvaxCJDv5mYr"
      },
      "execution_count": 32,
      "outputs": []
    },
    {
      "cell_type": "code",
      "source": [
        "# Calculate evaluation metrics\n",
        "mse = mean_squared_error(y_test, predictions)\n",
        "\n",
        "print(\"Mean Squared Error (MSE):\", mse)\n"
      ],
      "metadata": {
        "colab": {
          "base_uri": "https://localhost:8080/"
        },
        "id": "LfWwsUYE5n_y",
        "outputId": "27568183-5ae5-4c4a-ec86-25c94b9c18f5"
      },
      "execution_count": 33,
      "outputs": [
        {
          "output_type": "stream",
          "name": "stdout",
          "text": [
            "Mean Squared Error (MSE): 0.0012377826377950767\n"
          ]
        }
      ]
    },
    {
      "cell_type": "code",
      "source": [
        "mape = mean_absolute_percentage_error(y_test, predictions)\n",
        "print(\"Mean Absolute Percentage Error (MAPE):\", mape)"
      ],
      "metadata": {
        "colab": {
          "base_uri": "https://localhost:8080/"
        },
        "id": "VGoyCNwq5qkw",
        "outputId": "d94a4c22-d14e-434b-c44f-0020394f726e"
      },
      "execution_count": 34,
      "outputs": [
        {
          "output_type": "stream",
          "name": "stdout",
          "text": [
            "Mean Absolute Percentage Error (MAPE): 0.006070738042576177\n"
          ]
        }
      ]
    }
  ],
  "metadata": {
    "language_info": {
      "name": "python"
    },
    "orig_nbformat": 4,
    "colab": {
      "provenance": []
    },
    "kernelspec": {
      "name": "python3",
      "display_name": "Python 3"
    }
  },
  "nbformat": 4,
  "nbformat_minor": 0
}